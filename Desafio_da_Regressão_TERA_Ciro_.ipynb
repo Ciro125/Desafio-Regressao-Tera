{
  "nbformat": 4,
  "nbformat_minor": 0,
  "metadata": {
    "colab": {
      "provenance": [],
      "authorship_tag": "ABX9TyNZFn6ccdq/l8QUIKfbrV1q",
      "include_colab_link": true
    },
    "kernelspec": {
      "name": "python3",
      "display_name": "Python 3"
    },
    "language_info": {
      "name": "python"
    }
  },
  "cells": [
    {
      "cell_type": "markdown",
      "metadata": {
        "id": "view-in-github",
        "colab_type": "text"
      },
      "source": [
        "<a href=\"https://colab.research.google.com/github/Ciro125/Desafio-Regressao-Tera/blob/Desafio-Regress%C3%A3o/Desafio_da_Regress%C3%A3o_TERA_Ciro_.ipynb\" target=\"_parent\"><img src=\"https://colab.research.google.com/assets/colab-badge.svg\" alt=\"Open In Colab\"/></a>"
      ]
    },
    {
      "cell_type": "code",
      "execution_count": null,
      "metadata": {
        "id": "n5AzGO60vwAY"
      },
      "outputs": [],
      "source": []
    },
    {
      "cell_type": "code",
      "source": [],
      "metadata": {
        "id": "cbCZh_3dwsop"
      },
      "execution_count": null,
      "outputs": []
    }
  ]
}